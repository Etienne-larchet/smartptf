{
 "cells": [
  {
   "cell_type": "code",
   "execution_count": 1,
   "id": "ce3158e0",
   "metadata": {},
   "outputs": [],
   "source": [
    "import os\n",
    "import sys\n",
    "from pathlib import Path\n",
    "sys.path.append(\"c:/Users/etien/OneDrive - Groupe ESSCA/Windows/Dev/SmartPortfolio\")\n",
    "ROOT_DIR = Path(os.getcwd()).parent.parent"
   ]
  },
  {
   "cell_type": "code",
   "execution_count": 2,
   "id": "73f41006",
   "metadata": {},
   "outputs": [],
   "source": [
    "from sbx import TD3\n",
    "import numpy as np\n",
    "import polars as pl\n",
    "from models.DPT import DPTEnv\n",
    "from utils.polars import TimesSeriesPolars\n",
    "from datetime import date"
   ]
  },
  {
   "cell_type": "code",
   "execution_count": 3,
   "id": "ae0f9a10",
   "metadata": {},
   "outputs": [],
   "source": [
    "data = pl.read_csv( ROOT_DIR / \"data/index_historical/SP500_ohlcv_2004-11-30_to_2024-12-31.csv\", schema_overrides={\"Date\": date})\n",
    "data_holder = TimesSeriesPolars(data=data, index_ticker='GSPC.INDX')\n",
    "data_holder.calculate_logR()"
   ]
  },
  {
   "cell_type": "code",
   "execution_count": 4,
   "id": "e7fd1c70",
   "metadata": {},
   "outputs": [],
   "source": [
    "full_returns = data_holder.get('logR')"
   ]
  },
  {
   "cell_type": "code",
   "execution_count": 5,
   "id": "764c75e7",
   "metadata": {},
   "outputs": [],
   "source": [
    "env = DPTEnv(full_returns, index_ticker='GSPC.INDX')"
   ]
  },
  {
   "cell_type": "code",
   "execution_count": null,
   "id": "1878eff8",
   "metadata": {},
   "outputs": [],
   "source": []
  }
 ],
 "metadata": {
  "kernelspec": {
   "display_name": ".venv",
   "language": "python",
   "name": "python3"
  },
  "language_info": {
   "codemirror_mode": {
    "name": "ipython",
    "version": 3
   },
   "file_extension": ".py",
   "mimetype": "text/x-python",
   "name": "python",
   "nbconvert_exporter": "python",
   "pygments_lexer": "ipython3",
   "version": "3.13.2"
  }
 },
 "nbformat": 4,
 "nbformat_minor": 5
}
