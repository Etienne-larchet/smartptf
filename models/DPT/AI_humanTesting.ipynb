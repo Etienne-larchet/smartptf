{
 "cells": [
  {
   "cell_type": "code",
   "execution_count": null,
   "id": "ce3158e0",
   "metadata": {},
   "outputs": [],
   "source": [
    "import os\n",
    "import sys\n",
    "from pathlib import Path\n",
    "\n",
    "ROOT_DIR = Path(os.getcwd()).parent.parent\n",
    "sys.path.append(str(ROOT_DIR))"
   ]
  },
  {
   "cell_type": "code",
   "execution_count": null,
   "id": "73f41006",
   "metadata": {},
   "outputs": [],
   "source": [
    "import logging\n",
    "from datetime import date\n",
    "\n",
    "import polars as pl\n",
    "from stable_baselines3 import TD3\n",
    "\n",
    "from models.DPT import DPTEnv, TensorboardCallBack\n",
    "from utils.polars import TimesSeriesPolars\n",
    "\n",
    "logging.basicConfig(level=logging.INFO, format='%(levelname)s: %(message)s', force=True)"
   ]
  },
  {
   "cell_type": "code",
   "execution_count": null,
   "id": "ae0f9a10",
   "metadata": {},
   "outputs": [],
   "source": [
    "data = pl.read_csv( ROOT_DIR / \"data/index_historical/SP500_ohlcv_2004-11-30_to_2024-12-31.csv\", schema_overrides={\"Date\": date})\n",
    "data_holder = TimesSeriesPolars(data=data, index_ticker='GSPC.INDX')\n",
    "data_holder.calculate_logR()\n",
    "full_returns = data_holder.get('logR', include_index=True)"
   ]
  },
  {
   "cell_type": "code",
   "execution_count": null,
   "id": "7727820b",
   "metadata": {},
   "outputs": [],
   "source": [
    "env = DPTEnv(full_returns, index_ticker='GSPC.INDX')\n",
    "env.reset()\n",
    "model = TD3('MultiInputPolicy', env, verbose=1)"
   ]
  },
  {
   "cell_type": "code",
   "execution_count": null,
   "id": "9ad04cc0",
   "metadata": {},
   "outputs": [],
   "source": [
    "# from stable_baselines3.common.env_checker import check_env\n",
    "# check_env(env)"
   ]
  },
  {
   "cell_type": "code",
   "execution_count": null,
   "id": "c9f90c2b",
   "metadata": {},
   "outputs": [],
   "source": [
    "# TIMESTEPS = 100\n",
    "# for _ in range(5):\n",
    "#     model.learn(total_timesteps=TIMESTEPS, reset_num_timesteps=False, tb_log_name='TD3', callback=TensorboardCallBack())\n"
   ]
  },
  {
   "cell_type": "code",
   "execution_count": null,
   "id": "1878eff8",
   "metadata": {},
   "outputs": [],
   "source": [
    "episodes = 2\n",
    "for episode in range(1, episodes+1):\n",
    "    obs = env.reset()\n",
    "    terminated = False\n",
    "    score = 0\n",
    "    env.render()\n",
    "    while not terminated:\n",
    "        action = env.action_space.sample()\n",
    "        n_state, reward, terminated, truncated, info = env.step(action)\n",
    "        if info['retry_count'] == 0:\n",
    "            env.render()\n",
    "        score += reward\n",
    "    print(f'Episode: {episode} - Score:{score}')"
   ]
  },
  {
   "cell_type": "code",
   "execution_count": 1,
   "id": "b643881b",
   "metadata": {},
   "outputs": [],
   "source": [
    "import numpy as np"
   ]
  }
 ],
 "metadata": {
  "kernelspec": {
   "display_name": "smartptf-vYA80eHd-py3.12",
   "language": "python",
   "name": "python3"
  },
  "language_info": {
   "codemirror_mode": {
    "name": "ipython",
    "version": 3
   },
   "file_extension": ".py",
   "mimetype": "text/x-python",
   "name": "python",
   "nbconvert_exporter": "python",
   "pygments_lexer": "ipython3",
   "version": "3.12.9"
  }
 },
 "nbformat": 4,
 "nbformat_minor": 5
}
